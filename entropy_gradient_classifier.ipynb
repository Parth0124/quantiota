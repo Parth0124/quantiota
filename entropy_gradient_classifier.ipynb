{
 "cells": [
  {
   "cell_type": "code",
   "execution_count": null,
   "metadata": {},
   "outputs": [],
   "source": [
    "# Import the necessary libraries required.\n",
    "\n",
    "import numpy as np\n",
    "import matplotlib.pyplot as plt\n",
    "import tensorflow as tf"
   ]
  },
  {
   "cell_type": "code",
   "execution_count": null,
   "metadata": {},
   "outputs": [],
   "source": [
    "# Downloading the dataset form tensorflow.\n",
    "\n",
    "(x_train, y_train), (x_test, y_test) = tf.keras.datasets.mnist.load_data()"
   ]
  },
  {
   "cell_type": "code",
   "execution_count": null,
   "metadata": {},
   "outputs": [],
   "source": [
    "# Normalize the images of the dataset between 0 and 1.\n",
    "\n",
    "x_train = x_train / 255.0\n",
    "x_test = x_test / 255.0"
   ]
  },
  {
   "cell_type": "code",
   "execution_count": null,
   "metadata": {},
   "outputs": [],
   "source": [
    "# Flattening the images to 784 dimensional vector.\n",
    "\n",
    "x_train = x_train.reshape(-1, 28 * 28)\n",
    "x_test = x_test.reshape(-1, 28 * 28)"
   ]
  },
  {
   "cell_type": "code",
   "execution_count": null,
   "metadata": {},
   "outputs": [],
   "source": [
    "# Convert the labels of the iamges in train and test data to 0 and 1 based on their remainders upon performing the modulo operation for each label in train and test.\n",
    "\n",
    "y_train_even_odd = np.array([label % 2 for label in y_train])\n",
    "y_test_even_odd = np.array([label % 2 for label in y_test])"
   ]
  },
  {
   "cell_type": "code",
   "execution_count": null,
   "metadata": {},
   "outputs": [
    {
     "name": "stderr",
     "output_type": "stream",
     "text": [
      "/Users/parthabhang/Desktop/DL/quantiota/quantiotaenv/lib/python3.11/site-packages/keras/src/layers/core/dense.py:87: UserWarning: Do not pass an `input_shape`/`input_dim` argument to a layer. When using Sequential models, prefer using an `Input(shape)` object as the first layer in the model instead.\n",
      "  super().__init__(activity_regularizer=activity_regularizer, **kwargs)\n"
     ]
    }
   ],
   "source": [
    "# Model that has 1 laer of dense neuron, sigmoid actiation function and an input shape of 784.\n",
    "\n",
    "model = tf.keras.Sequential([tf.keras.layers.Dense(1, activation='sigmoid', input_shape=(28 * 28,))])"
   ]
  },
  {
   "cell_type": "code",
   "execution_count": null,
   "metadata": {},
   "outputs": [],
   "source": [
    "# All weights and bias initialized with adam optimizer, loss function as binary cross entropy and accuracy is the metrics that is being used. \n",
    "\n",
    "model.compile(optimizer='adam', loss='binary_crossentropy', metrics=['accuracy'])"
   ]
  },
  {
   "cell_type": "code",
   "execution_count": null,
   "metadata": {},
   "outputs": [
    {
     "name": "stdout",
     "output_type": "stream",
     "text": [
      "Epoch 1/5\n",
      "\u001b[1m1875/1875\u001b[0m \u001b[32m━━━━━━━━━━━━━━━━━━━━\u001b[0m\u001b[37m\u001b[0m \u001b[1m1s\u001b[0m 382us/step - accuracy: 0.8380 - loss: 0.3794\n",
      "Epoch 2/5\n",
      "\u001b[1m1875/1875\u001b[0m \u001b[32m━━━━━━━━━━━━━━━━━━━━\u001b[0m\u001b[37m\u001b[0m \u001b[1m1s\u001b[0m 378us/step - accuracy: 0.8919 - loss: 0.2747\n",
      "Epoch 3/5\n",
      "\u001b[1m1875/1875\u001b[0m \u001b[32m━━━━━━━━━━━━━━━━━━━━\u001b[0m\u001b[37m\u001b[0m \u001b[1m1s\u001b[0m 404us/step - accuracy: 0.8966 - loss: 0.2613\n",
      "Epoch 4/5\n",
      "\u001b[1m1875/1875\u001b[0m \u001b[32m━━━━━━━━━━━━━━━━━━━━\u001b[0m\u001b[37m\u001b[0m \u001b[1m1s\u001b[0m 390us/step - accuracy: 0.8966 - loss: 0.2625\n",
      "Epoch 5/5\n",
      "\u001b[1m1875/1875\u001b[0m \u001b[32m━━━━━━━━━━━━━━━━━━━━\u001b[0m\u001b[37m\u001b[0m \u001b[1m1s\u001b[0m 381us/step - accuracy: 0.8981 - loss: 0.2591\n"
     ]
    },
    {
     "data": {
      "text/plain": [
       "<keras.src.callbacks.history.History at 0x134033590>"
      ]
     },
     "execution_count": 8,
     "metadata": {},
     "output_type": "execute_result"
    }
   ],
   "source": [
    "# Model is fitted over the train data and trained for 5 epochs each with batch size of 32.\n",
    "\n",
    "model.fit(x_train, y_train_even_odd, epochs=5, batch_size=32)"
   ]
  },
  {
   "cell_type": "code",
   "execution_count": null,
   "metadata": {},
   "outputs": [
    {
     "name": "stdout",
     "output_type": "stream",
     "text": [
      "\u001b[1m313/313\u001b[0m \u001b[32m━━━━━━━━━━━━━━━━━━━━\u001b[0m\u001b[37m\u001b[0m \u001b[1m0s\u001b[0m 399us/step - accuracy: 0.8910 - loss: 0.2704\n",
      "Original Test Accuracy: 0.8975\n"
     ]
    }
   ],
   "source": [
    "# Loss is calculated and original accuracy is printed.\n",
    "\n",
    "loss, accuracy = model.evaluate(x_test, y_test_even_odd)\n",
    "print(f'Original Test Accuracy: {accuracy:.4f}')"
   ]
  },
  {
   "cell_type": "code",
   "execution_count": null,
   "metadata": {},
   "outputs": [],
   "source": [
    "# Hyperparameters for entropy gradiant based learning.\n",
    "\n",
    "learning_rate = 0.005  # Step size for updating the weights\n",
    "delta = 0.1  # contraint for the update in weight. The change in the weight in two consecutive iterations should not be more than this.\n",
    "epochs = 5  # model is trained over 5 epochs\n",
    "batch_size = 32  # Each epoch has a batch size of 32. \n",
    "input_size = 28 * 28  # Input size of each training iteration is 784."
   ]
  },
  {
   "cell_type": "code",
   "execution_count": null,
   "metadata": {},
   "outputs": [],
   "source": [
    "# Weights for model training\n",
    "\n",
    "w1 = np.random.randn(input_size) * 0.01  # Primary weight\n",
    "G1 = np.random.randn(input_size) * 0.01  # Secondary weight\n",
    "b1 = 0.01  # Bias term added for every step"
   ]
  },
  {
   "cell_type": "code",
   "execution_count": null,
   "metadata": {},
   "outputs": [],
   "source": [
    "# Sigmoid activation function applied over every result of the weighted sum of the weight and input\n",
    "\n",
    "def sigmoid(z):\n",
    "    return 1 / (1 + np.exp(-z))"
   ]
  },
  {
   "cell_type": "code",
   "execution_count": null,
   "metadata": {},
   "outputs": [],
   "source": [
    "# Function to calculate the magnitude by which the weight should be updated after each epoch using z and d according to the formula\n",
    "\n",
    "def entropy_gradient(z, D):\n",
    "    return - (1 / np.log(2)) * z * D * (1 - D)"
   ]
  },
  {
   "cell_type": "code",
   "execution_count": null,
   "metadata": {},
   "outputs": [],
   "source": [
    "# Performs the weighted bias and applies the activation function sigmoid over the input x.\n",
    "\n",
    "def forward_pass(x):\n",
    "    z = np.dot(x, (w1 + G1)) + b1\n",
    "    D = sigmoid(z)\n",
    "    return z, D"
   ]
  },
  {
   "cell_type": "code",
   "execution_count": null,
   "metadata": {},
   "outputs": [
    {
     "name": "stdout",
     "output_type": "stream",
     "text": [
      "Epoch 1/5, Test Accuracy: 0.5074\n",
      "Epoch 2/5, Test Accuracy: 0.5074\n",
      "Epoch 3/5, Test Accuracy: 0.5074\n",
      "Epoch 4/5, Test Accuracy: 0.5074\n",
      "Epoch 5/5, Test Accuracy: 0.5074\n"
     ]
    }
   ],
   "source": [
    "accuracy_history = [] # Empty array to store the accuracy for each epoch\n",
    "\n",
    "# Split train data into small batches for indivisual batch processing during each epoch.\n",
    "for epoch in range(epochs):\n",
    "    for i in range(0, len(x_train), batch_size):\n",
    "        x_batch = x_train[i:i + batch_size]\n",
    "        y_batch = y_train_even_odd[i:i + batch_size]\n",
    "\n",
    "        # Calculates the z and d usig the forward pass function created and also calculates the gradient by which the weight should be updated.\n",
    "        z, D = forward_pass(x_batch)\n",
    "        gradient = entropy_gradient(z, D)\n",
    "\n",
    "        # Weight updation of primary weight, secondary weight and bias using the learning rate and gradient calculated above.\n",
    "        w1_update = -learning_rate * np.dot(x_batch.T, gradient)\n",
    "        G1_update = -learning_rate * np.dot(x_batch.T, gradient)\n",
    "        b1_update = -learning_rate * np.sum(gradient)\n",
    "\n",
    "        # Applying the updated weights and bias above maintaining the constraint that the difference between conscutive weight update should not be more that delta (initialized to 0.1 in hyperparameters)\n",
    "        z_change = np.abs(w1_update + G1_update)\n",
    "        scale_factor = np.minimum(1.0, delta / np.max(z_change))\n",
    "        w1 += scale_factor * w1_update\n",
    "        G1 += scale_factor * G1_update\n",
    "        b1 += scale_factor * b1_update\n",
    "\n",
    "    # Tests the model based on the weight and bias updates made above into the forward pass function and calculates the accuracy and prints them\n",
    "    z_test, D_test = forward_pass(x_test)\n",
    "    predictions = (D_test >= 0.5).astype(int)\n",
    "    accuracy = np.mean(predictions == y_test_even_odd)\n",
    "    accuracy_history.append(accuracy)\n",
    "    print(f\"Epoch {epoch + 1}/{epochs}, Test Accuracy: {accuracy:.4f}\")"
   ]
  },
  {
   "cell_type": "code",
   "execution_count": null,
   "metadata": {},
   "outputs": [
    {
     "data": {
      "image/png": "[encoded data removed]",
      "text/plain": [
       "<Figure size 1000x600 with 1 Axes>"
      ]
     },
     "metadata": {},
     "output_type": "display_data"
    }
   ],
   "source": [
    "# Plot the accuracy of all the epochs for ntropy gradient based learning\n",
    "\n",
    "plt.figure(figsize=(10, 6))\n",
    "plt.plot(range(1, epochs + 1), accuracy_history, marker='o')\n",
    "plt.xlabel('Epoch')\n",
    "plt.ylabel('Test Accuracy')\n",
    "plt.title('Test Accuracy Over Epochs')\n",
    "plt.grid()\n",
    "plt.show()"
   ]
  },
  {
   "cell_type": "code",
   "execution_count": null,
   "metadata": {},
   "outputs": [
    {
     "data": {
      "image/png": "[encoded data removed]",
      "text/plain": [
       "<Figure size 1500x600 with 10 Axes>"
      ]
     },
     "metadata": {},
     "output_type": "display_data"
    },
    {
     "name": "stdout",
     "output_type": "stream",
     "text": [
      "\n",
      "Key Changes Implemented:\n",
      "1. Dual-weight structure (w1 and G1).\n",
      "2. Entropy-gradient based direction and magnitude for weight updation.\n",
      "3. z mapping constraint (|z_i+1 - z_i| < delta).\n",
      "4. Custom training loop replacing built-in optimizer.\n"
     ]
    }
   ],
   "source": [
    "random_indices = np.random.choice(len(x_test), 10, replace=False)  # Predicts some random integers.\n",
    "\n",
    "# Prints the image, the actual label (0 or 1) and the predicted label (0 or 1) for the random integers calculated above.\n",
    "plt.figure(figsize=(15, 6))\n",
    "for idx, i in enumerate(random_indices):\n",
    "    image = x_test[i].reshape(28, 28)\n",
    "    true_label = y_test_even_odd[i]\n",
    "    pred_label = predictions[i]\n",
    "    true_text = \"Odd\" if true_label == 1 else \"Even\"\n",
    "    pred_text = \"Odd\" if pred_label == 1 else \"Even\"\n",
    "\n",
    "    plt.subplot(2, 5, idx + 1)\n",
    "    plt.imshow(image, cmap='gray')\n",
    "    plt.title(f\"True: {true_text}\\nPred: {pred_text}\")\n",
    "    plt.axis('off')\n",
    "\n",
    "plt.tight_layout()\n",
    "plt.show()\n",
    "\n",
    "# Key changes made in the code provided.\n",
    "print(\"\\nKey Changes Implemented:\")\n",
    "print(\"1. Dual-weight structure (w1 and G1).\")\n",
    "print(\"2. Entropy-gradient based direction and magnitude for weight updation.\")\n",
    "print(\"3. z mapping constraint (|z_i+1 - z_i| < delta).\")\n",
    "print(\"4. Custom training loop replacing built-in optimizer.\")"
   ]
  },
  {
   "cell_type": "code",
   "execution_count": null,
   "metadata": {},
   "outputs": [],
   "source": []
  }
 ],
 "metadata": {
  "kernelspec": {
   "display_name": "Python 3",
   "language": "python",
   "name": "python3"
  },
  "language_info": {
   "codemirror_mode": {
    "name": "ipython",
    "version": 3
   },
   "file_extension": ".py",
   "mimetype": "text/x-python",
   "name": "python",
   "nbconvert_exporter": "python",
   "pygments_lexer": "ipython3",
   "version": "3.11.0"
  }
 },
 "nbformat": 4,
 "nbformat_minor": 2
}
